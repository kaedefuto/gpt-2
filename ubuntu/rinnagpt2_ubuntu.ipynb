{
 "cells": [
  {
   "cell_type": "markdown",
   "metadata": {
    "id": "t4KQOLR6Cfji"
   },
   "source": [
    "# **rinna版GPT-2のテキスト生成(Ubuntu)** "
   ]
  },
  {
   "cell_type": "markdown",
   "metadata": {},
   "source": [
    "# GPUが使えるか確認"
   ]
  },
  {
   "cell_type": "code",
   "execution_count": null,
   "metadata": {},
   "outputs": [],
   "source": [
    "import torch\n",
    "print(torch.cuda.is_available())"
   ]
  },
  {
   "cell_type": "code",
   "execution_count": null,
   "metadata": {
    "colab": {
     "base_uri": "https://localhost:8080/"
    },
    "executionInfo": {
     "elapsed": 1811,
     "status": "ok",
     "timestamp": 1619774299835,
     "user": {
      "displayName": "山本楓登",
      "photoUrl": "",
      "userId": "16058537755930222159"
     },
     "user_tz": -540
    },
    "id": "X7pgQ_wyRdCK",
    "outputId": "ff3cb571-0a8f-48c6-db41-76f330bce555"
   },
   "outputs": [],
   "source": [
    "!git clone https://github.com/huggingface/transformers "
   ]
  },
  {
   "cell_type": "code",
   "execution_count": null,
   "metadata": {
    "colab": {
     "base_uri": "https://localhost:8080/"
    },
    "executionInfo": {
     "elapsed": 71235,
     "status": "ok",
     "timestamp": 1619774385492,
     "user": {
      "displayName": "山本楓登",
      "photoUrl": "",
      "userId": "16058537755930222159"
     },
     "user_tz": -540
    },
    "id": "bMOUiANHulNR",
    "outputId": "54ebc852-7c9c-495d-b36f-0d94e4bc6f58"
   },
   "outputs": [],
   "source": [
    "!pip install transformers==4.5.0\n",
    "!pip install datasets==1.2.1\n",
    "!pip install sentencepiece==0.1.91"
   ]
  },
  {
   "cell_type": "markdown",
   "metadata": {},
   "source": [
    "# **run_clm.pyの変更**\n",
    "```\n",
    " ./transformers/examples/language-modeling/run_clm.py\n",
    " ```\n",
    "## 追加\n",
    "```\n",
    "from transformers import T5Tokenizer\n",
    "```\n",
    "## 変更\n",
    "```\n",
    "check_min_version(\"4.5.0\")\n",
    "tokenizer = T5Tokenizer.from_pretrained(model_args.tokenizer_name, **tokenizer_kwargs)\n",
    "tokenizer = T5Tokenizer.from_pretrained(model_args.model_name_or_path, **tokenizer_kwargs)\n",
    "```\n"
   ]
  },
  {
   "cell_type": "markdown",
   "metadata": {
    "id": "kfugsztIhfvc"
   },
   "source": [
    "## **ファインチューニングの実行**\n",
    "work内にtrain.txtを置く\n"
   ]
  },
  {
   "cell_type": "code",
   "execution_count": null,
   "metadata": {
    "colab": {
     "base_uri": "https://localhost:8080/"
    },
    "executionInfo": {
     "elapsed": 132328,
     "status": "ok",
     "timestamp": 1619774574197,
     "user": {
      "displayName": "山本楓登",
      "photoUrl": "",
      "userId": "16058537755930222159"
     },
     "user_tz": -540
    },
    "id": "V45Xg_g6SmF4",
    "outputId": "f0e76721-af94-4661-a84b-bdfac4939300"
   },
   "outputs": [],
   "source": [
    "%%time\n",
    "\n",
    "# 事前学習の実行\n",
    "!python ./transformers/examples/pytorch/language-modeling/run_clm.py \\\n",
    "    --model_name_or_path=rinna/japanese-gpt2-medium \\\n",
    "    --train_file=train.txt \\\n",
    "    --validation_file=train.txt \\\n",
    "    --do_train \\\n",
    "    --do_eval \\\n",
    "    --num_train_epochs=3 \\\n",
    "    --save_steps=5000 \\\n",
    "    --save_total_limit=3 \\\n",
    "    --per_device_train_batch_size=1 \\\n",
    "    --per_device_eval_batch_size=1 \\\n",
    "    --output_dir=output3/ \\\n",
    "    --use_fast_tokenizer=False"
   ]
  },
  {
   "cell_type": "code",
   "execution_count": null,
   "metadata": {},
   "outputs": [],
   "source": [
    "from transformers import AutoModelForCausalLM\n",
    "from transformers import T5Tokenizer\n",
    "import csv\n",
    "\n",
    "#入力文字\n",
    "enter = ['今日はお腹空いたので', '明日の晩御飯は']\n",
    "name = 'hariji'\n",
    "num = 1 \n",
    "\n",
    "header = [\"入力\",\"出力\"]\n",
    "with open(\"{0}_gen.csv\".format(name), 'w', encoding=\"utf-8\") as f:\n",
    "  writer = csv.writer(f, lineterminator=\"\\n\")\n",
    "  writer.writerow(header)\n",
    "\n",
    "# トークナイザーとモデルの準備\n",
    "tokenizer = T5Tokenizer.from_pretrained(\"rinna/japanese-gpt2-medium\")\n",
    "model = AutoModelForCausalLM.from_pretrained(\"output3/\")\n",
    "\n",
    "for sentence in enter:\n",
    "  print(num)\n",
    "  # 推論\n",
    "  input = tokenizer.encode(sentence, return_tensors=\"pt\")\n",
    "  output = model.generate(input, do_sample=True, max_length=100, num_return_sequences=25)\n",
    "  outer = tokenizer.batch_decode(output)\n",
    "\n",
    "  #</s>の削除\n",
    "  outer = [s.replace('</s> ','') for s in outer]\n",
    "  length = len(outer)\n",
    "  # for i in range(length):\n",
    "  #   output[i] = output[i].replace('</s> ','')\n",
    "  #   print(output[i])\n",
    "\n",
    "  #CSV書き込み\n",
    "  header = [\"入力\",\"出力\"]\n",
    "  with open(\"{0}_gen.csv\".format(name), 'a', encoding=\"utf-8\") as f:\n",
    "    writer = csv.writer(f, lineterminator=\"\\n\")\n",
    "    one_row = [sentence, '']\n",
    "    writer.writerow(one_row)\n",
    "    for i in range(length):\n",
    "      one_row = [\"\", outer[i]]\n",
    "      writer.writerow(one_row)\n",
    "  num += 1\n",
    "\n",
    "print('complete')\n"
   ]
  },
  {
   "cell_type": "markdown",
   "metadata": {
    "id": "NwNo99B1iOe8"
   },
   "source": [
    "CSV書き込み作成"
   ]
  },
  {
   "cell_type": "code",
   "execution_count": null,
   "metadata": {
    "colab": {
     "base_uri": "https://localhost:8080/"
    },
    "executionInfo": {
     "elapsed": 1254,
     "status": "ok",
     "timestamp": 1619709146614,
     "user": {
      "displayName": "ken",
      "photoUrl": "",
      "userId": "02365897101298719103"
     },
     "user_tz": -540
    },
    "id": "k-a8Hh5eE7_d",
    "outputId": "e3aa150d-631b-4291-a76f-7a88ca67b61c"
   },
   "outputs": [],
   "source": [
    "import csv\n",
    "header = [\"入力\",\"出力\"]\n",
    "with open(\"output.csv\", 'w', encoding=\"sjis\") as f:\n",
    "  writer = csv.writer(f, lineterminator=\"\\n\")\n",
    "  length = len(outer)\n",
    "  for i in range(length):\n",
    "    print(outer[i])\n",
    "    \n",
    "    one_row = [\"\", outer[i]]\n",
    "    writer.writerow(one_row)"
   ]
  }
 ],
 "metadata": {
  "accelerator": "GPU",
  "colab": {
   "collapsed_sections": [],
   "name": "rinnagpt2.ipynb",
   "provenance": [],
   "toc_visible": true
  },
  "kernelspec": {
   "display_name": "Python 3",
   "language": "python",
   "name": "python3"
  },
  "language_info": {
   "codemirror_mode": {
    "name": "ipython",
    "version": 3
   },
   "file_extension": ".py",
   "mimetype": "text/x-python",
   "name": "python",
   "nbconvert_exporter": "python",
   "pygments_lexer": "ipython3",
   "version": "3.7.6"
  }
 },
 "nbformat": 4,
 "nbformat_minor": 1
}
