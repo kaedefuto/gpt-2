{
 "cells": [
  {
   "cell_type": "markdown",
   "metadata": {
    "id": "t4KQOLR6Cfji"
   },
   "source": [
    "# **rinna版GPT-2のテキスト生成(Ubuntu)** "
   ]
  },
  {
   "cell_type": "markdown",
   "metadata": {},
   "source": [
    "# GPUが使えるか確認"
   ]
  },
  {
   "cell_type": "code",
   "execution_count": null,
   "metadata": {},
   "outputs": [],
   "source": [
    "import torch\n",
    "print(torch.cuda.is_available())"
   ]
  },
  {
   "cell_type": "code",
   "execution_count": null,
   "metadata": {
    "colab": {
     "base_uri": "https://localhost:8080/"
    },
    "executionInfo": {
     "elapsed": 1811,
     "status": "ok",
     "timestamp": 1619774299835,
     "user": {
      "displayName": "山本楓登",
      "photoUrl": "",
      "userId": "16058537755930222159"
     },
     "user_tz": -540
    },
    "id": "X7pgQ_wyRdCK",
    "outputId": "ff3cb571-0a8f-48c6-db41-76f330bce555"
   },
   "outputs": [],
   "source": [
    "!git clone https://github.com/huggingface/transformers "
   ]
  },
  {
   "cell_type": "code",
   "execution_count": null,
   "metadata": {
    "colab": {
     "base_uri": "https://localhost:8080/"
    },
    "executionInfo": {
     "elapsed": 71235,
     "status": "ok",
     "timestamp": 1619774385492,
     "user": {
      "displayName": "山本楓登",
      "photoUrl": "",
      "userId": "16058537755930222159"
     },
     "user_tz": -540
    },
    "id": "bMOUiANHulNR",
    "outputId": "54ebc852-7c9c-495d-b36f-0d94e4bc6f58",
    "scrolled": true
   },
   "outputs": [],
   "source": [
    "!pip install transformers==4.5.0\n",
    "!pip install datasets==1.2.1\n",
    "!pip install sentencepiece==0.1.91\n",
    "!pip install ipadic"
   ]
  },
  {
   "cell_type": "markdown",
   "metadata": {},
   "source": [
    "# **run_clm.pyの変更**\n",
    "```\n",
    " ./transformers/examples/language-modeling/run_clm.py\n",
    " ```\n",
    "## 追加\n",
    "```\n",
    "from transformers import T5Tokenizer\n",
    "```\n",
    "## 変更\n",
    "```\n",
    "check_min_version(\"4.5.0\")\n",
    "tokenizer = T5Tokenizer.from_pretrained(model_args.tokenizer_name, **tokenizer_kwargs)\n",
    "tokenizer = T5Tokenizer.from_pretrained(model_args.model_name_or_path, **tokenizer_kwargs)\n",
    "```\n"
   ]
  },
  {
   "cell_type": "markdown",
   "metadata": {
    "id": "kfugsztIhfvc"
   },
   "source": [
    "## **ファインチューニングの実行**\n",
    "- train.txt"
   ]
  },
  {
   "cell_type": "markdown",
   "metadata": {},
   "source": [
    "## 学習用"
   ]
  },
  {
   "cell_type": "code",
   "execution_count": null,
   "metadata": {
    "scrolled": true
   },
   "outputs": [],
   "source": [
    "%%time\n",
    "\n",
    "# 事前学習の実行\n",
    "!python ./transformers/examples/pytorch/language-modeling/run_clm.py \\\n",
    "    --model_name_or_path=rinna/japanese-gpt2-medium \\\n",
    "    --train_file=train_new.txt \\\n",
    "    --validation_file=train.txt \\\n",
    "    --do_train \\\n",
    "    --do_eval \\\n",
    "    --num_train_epochs=3 \\\n",
    "    --save_steps=10000 \\\n",
    "    --save_total_limit=3 \\\n",
    "    --per_device_train_batch_size=1 \\\n",
    "    --per_device_eval_batch_size=1 \\\n",
    "    --output_dir=chat/ \\\n",
    "    --use_fast_tokenizer=False"
   ]
  },
  {
   "cell_type": "markdown",
   "metadata": {},
   "source": [
    "## AutoModelForCausal"
   ]
  },
  {
   "cell_type": "code",
   "execution_count": null,
   "metadata": {},
   "outputs": [],
   "source": [
    "import torch\n",
    "import torch.cuda.amp as amp\n",
    "from transformers import T5Tokenizer, AutoModelForCausalLM, TFAutoModelForCausalLM, AutoTokenizer\n",
    "import csv\n",
    "\n",
    "\n",
    "#入力文字\n",
    "enter = ['<s>暑すぎる[SEP]']\n",
    "name = 'test'\n",
    "num = 1\n",
    "\n",
    "header = [\"入力\",\"出力\"]\n",
    "\"\"\"\n",
    "with open(\"./csv/{0}.csv\".format(name), 'w', encoding=\"sjis\") as f:\n",
    "    writer = csv.writer(f, lineterminator=\"\\n\")\n",
    "    writer.writerow(header)\n",
    "\"\"\"\n",
    "\n",
    "# トークナイザーとモデルの準備\n",
    "tokenizer = T5Tokenizer.from_pretrained(\"rinna/japanese-gpt2-medium\")\n",
    "#スペシャルトークン\n",
    "#print(tokenizer.special_tokens_map)\n",
    "#print(tokenizer.all_special_ids)\n",
    "\n",
    "#tokenizer = AutoTokenizer.from_pretrained(\"rinna/japanese-gpt2-medium\")\n",
    "#tokenizer = transformers.BertJapaneseTokenizer.from_pretrained(\"cl-tohoku/bert-base-japanese-whole-word-masking\")\n",
    "\n",
    "#モデル\n",
    "#model = AutoModelForCausalLM.from_pretrained(\"chat_new_5/\")\n",
    "model = AutoModelForCausalLM.from_pretrained(\"kaedefuto/chat_bot\")\n",
    "#pt_model = AutoModelForCausalLM.from_pretrained(\"rinna/japanese-gpt2-medium\")\n",
    "\n",
    "\"\"\"\n",
    "\n",
    "for sentence in enter:\n",
    "    #print(num)\n",
    "    # 推論\n",
    "    pt_tensor = tokenizer.encode(sentence, return_tensors=\"pt\")\n",
    "    #pt_tensor = tokenizer.encode(sentence, return_tensors=\"pt\").to(device)\n",
    "    #print(pt_tensor)\n",
    "    output = model.generate(\n",
    "        input_ids=pt_tensor,\n",
    "        do_sample=True,\n",
    "        top_p=1.0,\n",
    "        top_k=50,\n",
    "        early_stopping=True,\n",
    "        max_length=50,\n",
    "        min_length=10,\n",
    "        num_return_sequences=num,\n",
    "        output_scores=True,\n",
    "        bad_words_ids=[[1], [5]]\n",
    "    )\n",
    "    outer = tokenizer.batch_decode(output)\n",
    "\n",
    "    #</s>の削除\n",
    "    outer = [s.replace('</s> ','') for s in outer]\n",
    "    outer = [s.replace('</s>','') for s in outer]\n",
    "    outer = [s.replace('<unk> ','') for s in outer]\n",
    "    outer = [s.replace('<unk>','') for s in outer] \n",
    "    length = len(outer)\n",
    "    print(outer) \n",
    "\n",
    "\n",
    "device = torch.device(\"cuda\" if torch.cuda.is_available() else \"cpu\")\n",
    "model.to(device)\n",
    "model.eval()\n",
    "\"\"\"\n",
    "\n",
    "with amp.autocast():\n",
    "    for sentence in enter:\n",
    "        #print(num)\n",
    "        # 推論\n",
    "        pt_tensor = tokenizer.encode(sentence, return_tensors=\"pt\")\n",
    "        #pt_tensor = tokenizer.encode(sentence, return_tensors=\"pt\").to(device)\n",
    "        #print(pt_tensor)\n",
    "        output = model.generate(\n",
    "            input_ids=pt_tensor,\n",
    "            do_sample=True,\n",
    "            top_p=1.0,\n",
    "            top_k=50,\n",
    "            early_stopping=True,\n",
    "            max_length=50,\n",
    "            min_length=10,\n",
    "            num_return_sequences=num,\n",
    "            output_scores=True,\n",
    "            bad_words_ids=[[1], [5]]\n",
    "        )\n",
    "        outer = tokenizer.batch_decode(output)\n",
    "\n",
    "        #</s>の削除\n",
    "        outer = [s.replace('</s> ','') for s in outer]\n",
    "        outer = [s.replace('<unk>','') for s in outer] \n",
    "        length = len(outer)\n",
    "        #print(outer) \n",
    "        \n",
    "        \n",
    "        for i in outer:\n",
    "            print(i)\n",
    "            #print(\"\\n\")\n",
    " \n",
    "        \n",
    "        \"\"\"\n",
    "        for i in range(length):\n",
    "            outer[i] = outer[i].replace('</s>','')\n",
    "            print(outer)\n",
    "        \"\"\"\n",
    "        \n",
    "\n",
    "        #CSV書き込み\n",
    "        \"\"\"\n",
    "        with open(\"./csv/{0}.csv\".format(name), 'a', encoding=\"sjis\") as f:\n",
    "            writer = csv.writer(f, lineterminator=\"\\n\")\n",
    "            one_row = [sentence, '']\n",
    "            writer.writerow(one_row)\n",
    "            for i in range(length):\n",
    "                one_row = [\"\", outer[i]]\n",
    "                  writer.writerow(one_row)\n",
    "        num += 1\n",
    "        \"\"\"\n",
    "\n",
    "print('complete')\n",
    "\n",
    "\"\"\"\n",
    "import transformers\n",
    "tokenizer = transformers.BertJapaneseTokenizer.from_pretrained(\"cl-tohoku/bert-base-japanese-whole-word-masking\")\n",
    "print(tokenizer.tokenize(\"お腹が空いた\"))\n",
    "\"\"\""
   ]
  }
 ],
 "metadata": {
  "accelerator": "GPU",
  "colab": {
   "collapsed_sections": [],
   "name": "rinnagpt2.ipynb",
   "provenance": [],
   "toc_visible": true
  },
  "kernelspec": {
   "display_name": "Python 3 (ipykernel)",
   "language": "python",
   "name": "python3"
  },
  "language_info": {
   "codemirror_mode": {
    "name": "ipython",
    "version": 3
   },
   "file_extension": ".py",
   "mimetype": "text/x-python",
   "name": "python",
   "nbconvert_exporter": "python",
   "pygments_lexer": "ipython3",
   "version": "3.7.10"
  }
 },
 "nbformat": 4,
 "nbformat_minor": 1
}
